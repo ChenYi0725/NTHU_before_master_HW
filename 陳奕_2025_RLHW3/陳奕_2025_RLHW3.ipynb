{
  "nbformat": 4,
  "nbformat_minor": 0,
  "metadata": {
    "accelerator": "GPU",
    "colab": {
      "provenance": []
    },
    "kernelspec": {
      "display_name": "Python 3",
      "name": "python3"
    },
    "language_info": {
      "name": "python"
    }
  },
  "cells": [
    {
      "cell_type": "markdown",
      "metadata": {
        "id": "cl30FhZS-Ir8"
      },
      "source": [
        "# Deep Q Network Tutorial"
      ]
    },
    {
      "cell_type": "markdown",
      "metadata": {
        "id": "NuUUk1ttKXAQ"
      },
      "source": [
        "## 1. Environment Preparation\n",
        "### 1.1 Mount drive and set project path."
      ]
    },
    {
      "cell_type": "code",
      "metadata": {
        "id": "jK0QCNk9v4W8",
        "colab": {
          "base_uri": "https://localhost:8080/"
        },
        "outputId": "21f00fee-9403-4f31-f793-30b3e0eff782"
      },
      "source": [
        "from google.colab import drive\n",
        "drive.mount('/content/drive')\n",
        "\n",
        "import sys\n",
        "project_root = '/content/drive/My Drive/DQN_tutorial/'\n",
        "sys.path.append(project_root)"
      ],
      "execution_count": 2,
      "outputs": [
        {
          "output_type": "stream",
          "name": "stdout",
          "text": [
            "Mounted at /content/drive\n"
          ]
        }
      ]
    },
    {
      "cell_type": "markdown",
      "metadata": {
        "id": "7HN4h_eeKhq6"
      },
      "source": [
        "### 1.2 Download Atari ROM."
      ]
    },
    {
      "cell_type": "code",
      "metadata": {
        "id": "2J_47p11hM7y",
        "colab": {
          "base_uri": "https://localhost:8080/",
          "height": 1000
        },
        "outputId": "0dea296a-1230-49af-9146-2ad69eb87e64"
      },
      "source": [
        "! wget http://www.atarimania.com/roms/Roms.rar\n",
        "! mkdir /content/ROM/\n",
        "! unzip e /content/Roms.rar /content/ROM/\n",
        "! python -m atari_py.import_roms /content/ROM/\n",
        "! pip install \"gym[atari, accept-rom-license]\"\n",
        "! pip install numpy==1.24.4\n"
      ],
      "execution_count": 3,
      "outputs": [
        {
          "output_type": "stream",
          "name": "stdout",
          "text": [
            "--2025-07-08 15:22:15--  http://www.atarimania.com/roms/Roms.rar\n",
            "Resolving www.atarimania.com (www.atarimania.com)... 212.83.163.6\n",
            "Connecting to www.atarimania.com (www.atarimania.com)|212.83.163.6|:80... connected.\n",
            "HTTP request sent, awaiting response... 301 Moved Permanently\n",
            "Location: https://www.atarimania.com/roms/Roms.rar [following]\n",
            "--2025-07-08 15:22:15--  https://www.atarimania.com/roms/Roms.rar\n",
            "Connecting to www.atarimania.com (www.atarimania.com)|212.83.163.6|:443... connected.\n",
            "HTTP request sent, awaiting response... 200 OK\n",
            "Length: 19612325 (19M) [application/octet-stream]\n",
            "Saving to: ‘Roms.rar’\n",
            "\n",
            "Roms.rar            100%[===================>]  18.70M  7.87MB/s    in 2.4s    \n",
            "\n",
            "2025-07-08 15:22:18 (7.87 MB/s) - ‘Roms.rar’ saved [19612325/19612325]\n",
            "\n",
            "unzip:  cannot find or open e, e.zip or e.ZIP.\n",
            "/usr/bin/python3: Error while finding module specification for 'atari_py.import_roms' (ModuleNotFoundError: No module named 'atari_py')\n",
            "Requirement already satisfied: gym[accept-rom-license,atari] in /usr/local/lib/python3.11/dist-packages (0.25.2)\n",
            "Requirement already satisfied: numpy>=1.18.0 in /usr/local/lib/python3.11/dist-packages (from gym[accept-rom-license,atari]) (2.0.2)\n",
            "Requirement already satisfied: cloudpickle>=1.2.0 in /usr/local/lib/python3.11/dist-packages (from gym[accept-rom-license,atari]) (3.1.1)\n",
            "Requirement already satisfied: gym-notices>=0.0.4 in /usr/local/lib/python3.11/dist-packages (from gym[accept-rom-license,atari]) (0.0.8)\n",
            "Collecting autorom~=0.4.2 (from autorom[accept-rom-license]~=0.4.2; extra == \"accept-rom-license\"->gym[accept-rom-license,atari])\n",
            "  Downloading AutoROM-0.4.2-py3-none-any.whl.metadata (2.8 kB)\n",
            "INFO: pip is looking at multiple versions of gym[accept-rom-license,atari] to determine which version is compatible with other requirements. This could take a while.\n",
            "Collecting gym[accept-rom-license,atari]\n",
            "  Downloading gym-0.26.2.tar.gz (721 kB)\n",
            "\u001b[2K     \u001b[90m━━━━━━━━━━━━━━━━━━━━━━━━━━━━━━━━━━━━━━━\u001b[0m \u001b[32m721.7/721.7 kB\u001b[0m \u001b[31m5.8 MB/s\u001b[0m eta \u001b[36m0:00:00\u001b[0m\n",
            "\u001b[?25h  Installing build dependencies ... \u001b[?25l\u001b[?25hdone\n",
            "  Getting requirements to build wheel ... \u001b[?25l\u001b[?25hdone\n",
            "  Preparing metadata (pyproject.toml) ... \u001b[?25l\u001b[?25hdone\n",
            "Collecting ale-py~=0.8.0 (from gym[accept-rom-license,atari])\n",
            "  Downloading ale_py-0.8.1-cp311-cp311-manylinux_2_17_x86_64.manylinux2014_x86_64.whl.metadata (8.1 kB)\n",
            "Requirement already satisfied: importlib-resources in /usr/local/lib/python3.11/dist-packages (from ale-py~=0.8.0->gym[accept-rom-license,atari]) (6.5.2)\n",
            "Requirement already satisfied: click in /usr/local/lib/python3.11/dist-packages (from autorom~=0.4.2->autorom[accept-rom-license]~=0.4.2; extra == \"accept-rom-license\"->gym[accept-rom-license,atari]) (8.2.1)\n",
            "Requirement already satisfied: requests in /usr/local/lib/python3.11/dist-packages (from autorom~=0.4.2->autorom[accept-rom-license]~=0.4.2; extra == \"accept-rom-license\"->gym[accept-rom-license,atari]) (2.32.3)\n",
            "Requirement already satisfied: tqdm in /usr/local/lib/python3.11/dist-packages (from autorom~=0.4.2->autorom[accept-rom-license]~=0.4.2; extra == \"accept-rom-license\"->gym[accept-rom-license,atari]) (4.67.1)\n",
            "Collecting AutoROM.accept-rom-license (from autorom[accept-rom-license]~=0.4.2; extra == \"accept-rom-license\"->gym[accept-rom-license,atari])\n",
            "  Downloading AutoROM.accept-rom-license-0.6.1.tar.gz (434 kB)\n",
            "\u001b[2K     \u001b[90m━━━━━━━━━━━━━━━━━━━━━━━━━━━━━━━━━━━━━━\u001b[0m \u001b[32m434.7/434.7 kB\u001b[0m \u001b[31m33.9 MB/s\u001b[0m eta \u001b[36m0:00:00\u001b[0m\n",
            "\u001b[?25h  Installing build dependencies ... \u001b[?25l\u001b[?25hdone\n",
            "  Getting requirements to build wheel ... \u001b[?25l\u001b[?25hdone\n",
            "  Preparing metadata (pyproject.toml) ... \u001b[?25l\u001b[?25hdone\n",
            "Requirement already satisfied: charset-normalizer<4,>=2 in /usr/local/lib/python3.11/dist-packages (from requests->autorom~=0.4.2->autorom[accept-rom-license]~=0.4.2; extra == \"accept-rom-license\"->gym[accept-rom-license,atari]) (3.4.2)\n",
            "Requirement already satisfied: idna<4,>=2.5 in /usr/local/lib/python3.11/dist-packages (from requests->autorom~=0.4.2->autorom[accept-rom-license]~=0.4.2; extra == \"accept-rom-license\"->gym[accept-rom-license,atari]) (3.10)\n",
            "Requirement already satisfied: urllib3<3,>=1.21.1 in /usr/local/lib/python3.11/dist-packages (from requests->autorom~=0.4.2->autorom[accept-rom-license]~=0.4.2; extra == \"accept-rom-license\"->gym[accept-rom-license,atari]) (2.4.0)\n",
            "Requirement already satisfied: certifi>=2017.4.17 in /usr/local/lib/python3.11/dist-packages (from requests->autorom~=0.4.2->autorom[accept-rom-license]~=0.4.2; extra == \"accept-rom-license\"->gym[accept-rom-license,atari]) (2025.6.15)\n",
            "Downloading ale_py-0.8.1-cp311-cp311-manylinux_2_17_x86_64.manylinux2014_x86_64.whl (1.7 MB)\n",
            "\u001b[2K   \u001b[90m━━━━━━━━━━━━━━━━━━━━━━━━━━━━━━━━━━━━━━━━\u001b[0m \u001b[32m1.7/1.7 MB\u001b[0m \u001b[31m49.9 MB/s\u001b[0m eta \u001b[36m0:00:00\u001b[0m\n",
            "\u001b[?25hDownloading AutoROM-0.4.2-py3-none-any.whl (16 kB)\n",
            "Building wheels for collected packages: gym, AutoROM.accept-rom-license\n",
            "  Building wheel for gym (pyproject.toml) ... \u001b[?25l\u001b[?25hdone\n",
            "  Created wheel for gym: filename=gym-0.26.2-py3-none-any.whl size=827729 sha256=e0a0af8a2b967a5f55ca1d5ba1f7067a3fac518fc38edd14f25103dc925b9c3b\n",
            "  Stored in directory: /root/.cache/pip/wheels/1c/77/9e/9af5470201a0b0543937933ee99ba884cd237d2faefe8f4d37\n",
            "  Building wheel for AutoROM.accept-rom-license (pyproject.toml) ... \u001b[?25l\u001b[?25hdone\n",
            "  Created wheel for AutoROM.accept-rom-license: filename=autorom_accept_rom_license-0.6.1-py3-none-any.whl size=446709 sha256=a0a5202cb72cf3311a5121544bf6fe376f13ba3b93729a9c9e6186b14e18cd8b\n",
            "  Stored in directory: /root/.cache/pip/wheels/bc/fc/c6/8aa657c0d2089982f2dabd110efc68c61eb49831fdb7397351\n",
            "Successfully built gym AutoROM.accept-rom-license\n",
            "Installing collected packages: gym, ale-py, AutoROM.accept-rom-license, autorom\n",
            "  Attempting uninstall: gym\n",
            "    Found existing installation: gym 0.25.2\n",
            "    Uninstalling gym-0.25.2:\n",
            "      Successfully uninstalled gym-0.25.2\n",
            "  Attempting uninstall: ale-py\n",
            "    Found existing installation: ale-py 0.11.1\n",
            "    Uninstalling ale-py-0.11.1:\n",
            "      Successfully uninstalled ale-py-0.11.1\n",
            "\u001b[31mERROR: pip's dependency resolver does not currently take into account all the packages that are installed. This behaviour is the source of the following dependency conflicts.\n",
            "dopamine-rl 4.1.2 requires ale-py>=0.10.1, but you have ale-py 0.8.1 which is incompatible.\n",
            "dopamine-rl 4.1.2 requires gym<=0.25.2, but you have gym 0.26.2 which is incompatible.\u001b[0m\u001b[31m\n",
            "\u001b[0mSuccessfully installed AutoROM.accept-rom-license-0.6.1 ale-py-0.8.1 autorom-0.4.2 gym-0.26.2\n",
            "Collecting numpy==1.24.4\n",
            "  Downloading numpy-1.24.4-cp311-cp311-manylinux_2_17_x86_64.manylinux2014_x86_64.whl.metadata (5.6 kB)\n",
            "Downloading numpy-1.24.4-cp311-cp311-manylinux_2_17_x86_64.manylinux2014_x86_64.whl (17.3 MB)\n",
            "\u001b[2K   \u001b[90m━━━━━━━━━━━━━━━━━━━━━━━━━━━━━━━━━━━━━━━━\u001b[0m \u001b[32m17.3/17.3 MB\u001b[0m \u001b[31m70.0 MB/s\u001b[0m eta \u001b[36m0:00:00\u001b[0m\n",
            "\u001b[?25hInstalling collected packages: numpy\n",
            "  Attempting uninstall: numpy\n",
            "    Found existing installation: numpy 2.0.2\n",
            "    Uninstalling numpy-2.0.2:\n",
            "      Successfully uninstalled numpy-2.0.2\n",
            "\u001b[31mERROR: pip's dependency resolver does not currently take into account all the packages that are installed. This behaviour is the source of the following dependency conflicts.\n",
            "treescope 0.1.9 requires numpy>=1.25.2, but you have numpy 1.24.4 which is incompatible.\n",
            "jaxlib 0.5.1 requires numpy>=1.25, but you have numpy 1.24.4 which is incompatible.\n",
            "jax 0.5.2 requires numpy>=1.25, but you have numpy 1.24.4 which is incompatible.\n",
            "tensorflow 2.18.0 requires numpy<2.1.0,>=1.26.0, but you have numpy 1.24.4 which is incompatible.\n",
            "blosc2 3.5.0 requires numpy>=1.26, but you have numpy 1.24.4 which is incompatible.\n",
            "pymc 5.23.0 requires numpy>=1.25.0, but you have numpy 1.24.4 which is incompatible.\n",
            "xarray-einstats 0.9.1 requires numpy>=1.25, but you have numpy 1.24.4 which is incompatible.\n",
            "thinc 8.3.6 requires numpy<3.0.0,>=2.0.0, but you have numpy 1.24.4 which is incompatible.\n",
            "dopamine-rl 4.1.2 requires ale-py>=0.10.1, but you have ale-py 0.8.1 which is incompatible.\n",
            "dopamine-rl 4.1.2 requires gym<=0.25.2, but you have gym 0.26.2 which is incompatible.\u001b[0m\u001b[31m\n",
            "\u001b[0mSuccessfully installed numpy-1.24.4\n"
          ]
        },
        {
          "output_type": "display_data",
          "data": {
            "application/vnd.colab-display-data+json": {
              "pip_warning": {
                "packages": [
                  "numpy"
                ]
              },
              "id": "be958ab109b7438686ade4af31f4e4a5"
            }
          },
          "metadata": {}
        }
      ]
    },
    {
      "cell_type": "markdown",
      "metadata": {
        "id": "QHo6IpBN92O7"
      },
      "source": [
        "## 2. Pong Game and Wrapper\n",
        "### 2.1 Test the pong environment."
      ]
    },
    {
      "cell_type": "code",
      "metadata": {
        "id": "g_SMe9nq91OI",
        "colab": {
          "base_uri": "https://localhost:8080/",
          "height": 587
        },
        "outputId": "b77aaa48-e0dc-488a-c005-cef609e2b886"
      },
      "source": [
        "import gym\n",
        "import matplotlib.pyplot as plt\n",
        "\n",
        "env_name = \"PongNoFrameskip-v4\"\n",
        "env = gym.make(env_name, render_mode=\"rgb_array\")\n",
        "\n",
        "print(\"environment:\", env_name)\n",
        "print(\"action space:\", env.action_space.n)\n",
        "print(\"action:\", env.unwrapped.get_action_meanings())\n",
        "print(\"observation space:\", env.observation_space.shape)\n",
        "\n",
        "state = env.reset()\n",
        "action = env.action_space.sample()\n",
        "state_next, reward, terminated, truncated, info = env.step(action)\n",
        "\n",
        "image = env.render()\n",
        "plt.figure()\n",
        "plt.imshow(image)\n",
        "plt.axis('off')\n",
        "plt.title(f\"Reward: {reward}\")\n",
        "plt.show()"
      ],
      "execution_count": 1,
      "outputs": [
        {
          "output_type": "stream",
          "name": "stdout",
          "text": [
            "environment: PongNoFrameskip-v4\n",
            "action space: 6\n",
            "action: ['NOOP', 'FIRE', 'RIGHT', 'LEFT', 'RIGHTFIRE', 'LEFTFIRE']\n",
            "observation space: (210, 160, 3)\n"
          ]
        },
        {
          "output_type": "stream",
          "name": "stderr",
          "text": [
            "/usr/local/lib/python3.11/dist-packages/gym/utils/passive_env_checker.py:233: DeprecationWarning: `np.bool8` is a deprecated alias for `np.bool_`.  (Deprecated NumPy 1.24)\n",
            "  if not isinstance(terminated, (bool, np.bool8)):\n",
            "/usr/local/lib/python3.11/dist-packages/gym/utils/passive_env_checker.py:289: UserWarning: \u001b[33mWARN: No render fps was declared in the environment (env.metadata['render_fps'] is None or not defined), rendering may occur at inconsistent fps.\u001b[0m\n",
            "  logger.warn(\n"
          ]
        },
        {
          "output_type": "display_data",
          "data": {
            "text/plain": [
              "<Figure size 640x480 with 1 Axes>"
            ],
            "image/png": "[encoded data removed]"
          },
          "metadata": {}
        }
      ]
    },
    {
      "cell_type": "markdown",
      "metadata": {
        "id": "y3S0ZQ_4AamT"
      },
      "source": [
        "### 2.2 Environment wrapper."
      ]
    },
    {
      "cell_type": "code",
      "metadata": {
        "id": "6N8dWp49AUZC"
      },
      "source": [
        "import numpy as np\n",
        "from PIL import Image\n",
        "import gym\n",
        "\n",
        "class PongEnvWrapper(gym.Wrapper):\n",
        "    def __init__(self, env, k, img_size=(84,84)):\n",
        "        gym.Wrapper.__init__(self, env)\n",
        "        self.k = k\n",
        "        self.img_size = img_size\n",
        "        obs_shape = env.observation_space.shape\n",
        "        self.observation_space = gym.spaces.Box(low=0.0, high=1.0, shape=(k, img_size[0], img_size[1]), dtype=np.float32)\n",
        "\n",
        "    def _preprocess(self, state, th=0.4): #Image processing.\n",
        "        state = np.array(Image.fromarray(state).resize(self.img_size,Image.BILINEAR))\n",
        "        state = state.astype(np.float32).mean(2)/255.\n",
        "        state[state > th] = 1\n",
        "        state[state <= th] = 0\n",
        "        return state\n",
        "\n",
        "\n",
        "    def reset(self):\n",
        "        state,_ = self.env.reset()\n",
        "        state = self._preprocess(state)\n",
        "        state = state[np.newaxis,...].repeat(self.k,axis = 0)\n",
        "        return state,_\n",
        "\n",
        "    def step(self, action):\n",
        "        state_next =[]\n",
        "        info = []\n",
        "        reward = 0\n",
        "        done = False\n",
        "        for i in range(self.k):\n",
        "          if not done:\n",
        "            state_next_f,reward_f,terminated_f,done_f,info_f = self.env.step(action)\n",
        "            state_next_f = self._preprocess(state_next_f)\n",
        "            reward += reward_f\n",
        "            done = done_f\n",
        "            info.append(info_f)\n",
        "          state_next.append(state_next_f[np.newaxis,...])\n",
        "        state_next = np.concatenate(state_next,0)\n",
        "        return state_next, reward, done, info"
      ],
      "execution_count": 2,
      "outputs": []
    },
    {
      "cell_type": "code",
      "metadata": {
        "id": "HPIdul6SAqg4",
        "colab": {
          "base_uri": "https://localhost:8080/",
          "height": 485
        },
        "outputId": "459f35ef-1c88-4606-c86a-08a0cdf1ee56"
      },
      "source": [
        "# Test Code\n",
        "env_pong = PongEnvWrapper(env, k=4, img_size=(84,84))\n",
        "print(\"observation space:\", env_pong.observation_space.shape)\n",
        "\n",
        "state = env_pong.reset()\n",
        "action = env_pong.action_space.sample()\n",
        "state_next, reward, done, info = env_pong.step(action)\n",
        "print(state_next.shape)\n",
        "plt.imshow(state_next[0], cmap=\"gray\")"
      ],
      "execution_count": 3,
      "outputs": [
        {
          "output_type": "stream",
          "name": "stdout",
          "text": [
            "observation space: (4, 84, 84)\n",
            "(4, 84, 84)\n"
          ]
        },
        {
          "output_type": "execute_result",
          "data": {
            "text/plain": [
              "<matplotlib.image.AxesImage at 0x7f6ea825d490>"
            ]
          },
          "metadata": {},
          "execution_count": 3
        },
        {
          "output_type": "display_data",
          "data": {
            "text/plain": [
              "<Figure size 640x480 with 1 Axes>"
            ],
            "image/png": "[encoded data removed]"
          },
          "metadata": {}
        }
      ]
    },
    {
      "cell_type": "markdown",
      "metadata": {
        "id": "C8PmVn3yCeOK"
      },
      "source": [
        "## 3. Reinforcement Learning\n",
        "### 3.1 Convolutional Neural Network"
      ]
    },
    {
      "cell_type": "code",
      "metadata": {
        "id": "sHItigfeFp1p"
      },
      "source": [
        "import torch\n",
        "import torch.nn as nn\n",
        "import torch.optim as optim\n",
        "import torch.nn.functional as F\n",
        "\n",
        "class QNet(nn.Module):\n",
        "    def __init__(self, input_shape, n_actions):\n",
        "        super(QNet, self).__init__()\n",
        "        self.conv = nn.Sequential(\n",
        "            nn.Conv2d(in_channels=input_shape[0], out_channels=32, kernel_size=8, stride=4),\n",
        "            nn.ReLU(),\n",
        "            nn.Conv2d(in_channels=32, out_channels=64, kernel_size=4, stride=2),\n",
        "            nn.ReLU(),\n",
        "            nn.Conv2d(in_channels=64, out_channels=64, kernel_size=3, stride=1),\n",
        "            nn.ReLU(),\n",
        "        )\n",
        "\n",
        "\n",
        "        dummy_input = torch.zeros(1, *input_shape)\n",
        "        conv_out = self.conv(dummy_input)\n",
        "        conv_out_size = conv_out.view(1, -1).size(1)\n",
        "\n",
        "\n",
        "        self.fc = nn.Sequential(\n",
        "            nn.Linear(conv_out_size, 512),\n",
        "            nn.ReLU(),\n",
        "            nn.Linear(512, n_actions)\n",
        "        )\n",
        "\n",
        "    def forward(self, x):\n",
        "        x = self.conv(x)\n",
        "        x = x.view(x.size(0), -1)  # 展平成 batch_size x conv_out_size\n",
        "        x = self.fc(x)\n",
        "        return x\n",
        "\n"
      ],
      "execution_count": 28,
      "outputs": []
    },
    {
      "cell_type": "markdown",
      "metadata": {
        "id": "I6FmitVZFyOk"
      },
      "source": [
        "### 3.2 DQN Algorithm"
      ]
    },
    {
      "cell_type": "code",
      "metadata": {
        "id": "mZpRBeuXCol6"
      },
      "source": [
        "class DeepQNetwork():\n",
        "    def __init__(\n",
        "        self,\n",
        "        n_actions,\n",
        "        input_shape,\n",
        "        qnet,\n",
        "        device,\n",
        "        learning_rate = 2e-4,\n",
        "        reward_decay = 0.99,\n",
        "        replace_target_iter = 1000,\n",
        "        memory_size = 10000,\n",
        "        batch_size = 32,\n",
        "    ):\n",
        "        # initialize parameters\n",
        "        self.n_actions = n_actions\n",
        "        self.input_shape = input_shape\n",
        "        self.lr = learning_rate\n",
        "        self.gamma = reward_decay\n",
        "        self.replace_target_iter = replace_target_iter\n",
        "        self.memory_size = memory_size\n",
        "        self.batch_size = batch_size\n",
        "        self.device = device\n",
        "        self.learn_step_counter = 0\n",
        "        self.init_memory()\n",
        "\n",
        "        # Network\n",
        "        self.qnet_eval = qnet(self.input_shape, self.n_actions).to(self.device)\n",
        "        self.qnet_target = qnet(self.input_shape, self.n_actions).to(self.device)\n",
        "        self.qnet_target.eval()\n",
        "        self.optimizer = optim.RMSprop(self.qnet_eval.parameters(), lr=self.lr)\n",
        "\n",
        "    def choose_action(self, state, epsilon=0):\n",
        "        state = torch.FloatTensor(state).unsqueeze(0).to(self.device)\n",
        "        actions_value = self.qnet_eval.forward(state)\n",
        "        if np.random.uniform() > epsilon:   # greedy\n",
        "            action = torch.max(actions_value, 1)[1].data.cpu().numpy()[0]\n",
        "        else:   # random\n",
        "            action = np.random.randint(0, self.n_actions)\n",
        "        return action\n",
        "\n",
        "    def learn(self):\n",
        "        if self.learn_step_counter % self.replace_target_iter == 0:\n",
        "            self.qnet_target.load_state_dict(self.qnet_eval.state_dict())\n",
        "        if self.memory_counter > self.memory_size:\n",
        "            sample_index = np.random.choice(self.memory_size, size=self.batch_size)\n",
        "        else:\n",
        "            sample_index = np.random.choice(self.memory_counter, size=self.batch_size)\n",
        "        b_s = torch.FloatTensor(self.memory[\"s\"][sample_index]).to(self.device)\n",
        "        b_a = torch.LongTensor(self.memory[\"a\"][sample_index]).to(self.device)\n",
        "        b_r = torch.FloatTensor(self.memory[\"r\"][sample_index]).to(self.device)\n",
        "        b_s_ = torch.FloatTensor(self.memory[\"s_\"][sample_index]).to(self.device)\n",
        "        b_d = torch.FloatTensor(self.memory[\"done\"][sample_index]).to(self.device)\n",
        "        #---\n",
        "        q_curr_eval = self.qnet_eval(b_s).gather(1, b_a)\n",
        "        q_next_target = self.qnet_target(b_s_).detach()\n",
        "        next_state_value = q_next_target.max(1)[0].view(self.batch_size, 1) # -> DQN\n",
        "        # q_next_eval = self.qnet_eval(b_s_).detach()                   # -> DDQN\n",
        "        # next_state_value = q_next_target.gather(1, q_next_eval.max(1)[1].unsqueeze(1)) # -> DDQN\n",
        "        q_curr_recur = b_r + (1-b_d) * self.gamma * next_state_value\n",
        "        #-----\n",
        "        self.loss = F.smooth_l1_loss(q_curr_eval, q_curr_recur)\n",
        "        self.optimizer.zero_grad()\n",
        "        self.loss.backward()\n",
        "        self.optimizer.step()\n",
        "        self.learn_step_counter += 1\n",
        "        return self.loss.detach().cpu().numpy()\n",
        "\n",
        "\n",
        "    def init_memory(self):\n",
        "        self.memory = {\n",
        "            \"s\": np.zeros((self.memory_size, *self.input_shape)),\n",
        "            \"a\": np.zeros((self.memory_size, 1)),\n",
        "            \"r\": np.zeros((self.memory_size, 1)),\n",
        "            \"s_\": np.zeros((self.memory_size, *self.input_shape)),\n",
        "            \"done\": np.zeros((self.memory_size, 1)),\n",
        "        }\n",
        "\n",
        "    def store_transition(self, s, a, r, s_, d):\n",
        "        if not hasattr(self, 'memory_counter'):\n",
        "            self.memory_counter = 0\n",
        "        if self.memory_counter <= self.memory_size:\n",
        "            index = self.memory_counter % self.memory_size\n",
        "        else:\n",
        "            index = np.random.randint(self.memory_size)\n",
        "        self.memory[\"s\"][index] = s\n",
        "        self.memory[\"a\"][index] = np.array(a).reshape(-1,1)\n",
        "        self.memory[\"r\"][index] = np.array(r).reshape(-1,1)\n",
        "        self.memory[\"s_\"][index] = s_\n",
        "        self.memory[\"done\"][index] = np.array(d).reshape(-1,1)\n",
        "        self.memory_counter += 1\n",
        "\n",
        "    def save_load_model(self, op, path=\"save\", fname=\"qnet.pt\"):\n",
        "        import os\n",
        "        if not os.path.exists(path):\n",
        "            os.makedirs(path)\n",
        "        file_path = os.path.join(path, fname)\n",
        "        if op == \"save\":\n",
        "            torch.save(self.qnet_eval.state_dict(), file_path)\n",
        "        elif op == \"load\":\n",
        "            self.qnet_eval.load_state_dict(torch.load(file_path, map_location=self.device))\n",
        "            self.qnet_target.load_state_dict(torch.load(file_path, map_location=self.device))"
      ],
      "execution_count": 30,
      "outputs": []
    },
    {
      "cell_type": "code",
      "metadata": {
        "id": "ZeHuwGZSFa7c",
        "colab": {
          "base_uri": "https://localhost:8080/"
        },
        "outputId": "e768ab16-363f-4a74-8ed9-01cc5cca2408"
      },
      "source": [
        "stack_frames = 4\n",
        "img_size = (84,84)\n",
        "device = torch.device(\"cuda\" if torch.cuda.is_available() else \"cpu\")\n",
        "\n",
        "agent = DeepQNetwork(\n",
        "        n_actions = env.action_space.n,\n",
        "        input_shape = [stack_frames, *img_size],\n",
        "        qnet = QNet,\n",
        "        device = device,\n",
        "        learning_rate = 2e-4,\n",
        "        reward_decay = 0.99,\n",
        "        replace_target_iter = 1000,\n",
        "        memory_size = 10000,\n",
        "        batch_size = 32,)\n",
        "\n",
        "print(agent.qnet_eval)"
      ],
      "execution_count": 31,
      "outputs": [
        {
          "output_type": "stream",
          "name": "stdout",
          "text": [
            "QNet(\n",
            "  (conv): Sequential(\n",
            "    (0): Conv2d(4, 32, kernel_size=(8, 8), stride=(4, 4))\n",
            "    (1): ReLU()\n",
            "    (2): Conv2d(32, 64, kernel_size=(4, 4), stride=(2, 2))\n",
            "    (3): ReLU()\n",
            "    (4): Conv2d(64, 64, kernel_size=(3, 3), stride=(1, 1))\n",
            "    (5): ReLU()\n",
            "  )\n",
            "  (fc): Sequential(\n",
            "    (0): Linear(in_features=3136, out_features=512, bias=True)\n",
            "    (1): ReLU()\n",
            "    (2): Linear(in_features=512, out_features=6, bias=True)\n",
            "  )\n",
            ")\n"
          ]
        }
      ]
    },
    {
      "cell_type": "markdown",
      "metadata": {
        "id": "TlO1ozgFKsjC"
      },
      "source": [
        "## 4. Training and testing process.\n",
        "### 4.1 Play the game."
      ]
    },
    {
      "cell_type": "code",
      "metadata": {
        "id": "6gC66Kh7LS87"
      },
      "source": [
        "def play(env, agent, stack_frames, img_size):\n",
        "    state,_ = env.reset()\n",
        "    # img = (state[0].squeeze() * 255).astype(np.uint8)\n",
        "    # img_buffer = [Image.fromarray(img)]\n",
        "    img = (state[0] * 255).astype(np.uint8)  # state[0] 是灰階圖\n",
        "    img_buffer = [Image.fromarray(img)]\n",
        "\n",
        "    step = 0\n",
        "    total_reward = 0\n",
        "\n",
        "    while True:\n",
        "        action = agent.choose_action(state, 0)\n",
        "        state_next, reward, done, info = env.step(action)\n",
        "\n",
        "        # if step % 2 == 0:\n",
        "            # img = (state_next[0].squeeze() * 255).astype(np.uint8)\n",
        "            # img_buffer.append(Image.fromarray(img))\n",
        "        if step % 2 == 0:\n",
        "            img = (state_next[0] * 255).astype(np.uint8)\n",
        "            img_buffer.append(Image.fromarray(img))\n",
        "\n",
        "        state = state_next.copy()\n",
        "        step += 1\n",
        "        total_reward += reward\n",
        "        print('\\rStep: {:3d} | Reward: {:.3f} / {:.3f}'\\\n",
        "            .format(step, reward, total_reward), end=\"\")\n",
        "\n",
        "        if done or step > 2000:\n",
        "            print()\n",
        "            break\n",
        "\n",
        "    return img_buffer\n"
      ],
      "execution_count": 32,
      "outputs": []
    },
    {
      "cell_type": "code",
      "metadata": {
        "id": "4h71uAIcFVpj"
      },
      "source": [
        "import os\n",
        "project_root = os.getcwd()\n",
        "def save_gif(img_buffer, fname, gif_path=os.path.join(project_root, \"gif\")):\n",
        "    if not os.path.exists(gif_path):\n",
        "        os.makedirs(gif_path)\n",
        "    img_buffer[0].save(os.path.join(gif_path, fname), save_all=True, append_images=img_buffer[1:], duration=1, loop=0)"
      ],
      "execution_count": 33,
      "outputs": []
    },
    {
      "cell_type": "code",
      "metadata": {
        "id": "IwvsjrHMTyOh",
        "colab": {
          "base_uri": "https://localhost:8080/"
        },
        "outputId": "80adb7e4-33f7-4313-cce9-2d334f9b699c"
      },
      "source": [
        "# Test Code\n",
        "print(\"state[0] shape before squeeze:\", state[0].shape)\n",
        "img_buffer = play(env_pong, agent, stack_frames, img_size)\n",
        "save_gif(img_buffer, fname=\"test.gif\")"
      ],
      "execution_count": 34,
      "outputs": [
        {
          "output_type": "stream",
          "name": "stdout",
          "text": [
            "state[0] shape before squeeze: (4, 84, 84)\n",
            "Step: 2001 | Reward: 0.000 / -21.000\n"
          ]
        }
      ]
    },
    {
      "cell_type": "markdown",
      "metadata": {
        "id": "zaeYbrDBScJq"
      },
      "source": [
        "### 4.2 Epsilon greedy computation."
      ]
    },
    {
      "cell_type": "code",
      "metadata": {
        "id": "Z4CLYqqOSiHH"
      },
      "source": [
        "def epsilon_compute(frame_id, epsilon_max=1, epsilon_min=0.05, epsilon_decay=100000):\n",
        "    return epsilon_min + (epsilon_max - epsilon_min) * np.exp(-frame_id / epsilon_decay)"
      ],
      "execution_count": 35,
      "outputs": []
    },
    {
      "cell_type": "code",
      "metadata": {
        "id": "tkS_5piBUU98",
        "colab": {
          "base_uri": "https://localhost:8080/",
          "height": 447
        },
        "outputId": "2a444407-07aa-43e9-b61f-acf9a0a42528"
      },
      "source": [
        "# Test Code\n",
        "frame_ids = np.array(range(400000))\n",
        "epsilons = epsilon_compute(frame_ids)\n",
        "plt.plot(epsilons)"
      ],
      "execution_count": 36,
      "outputs": [
        {
          "output_type": "execute_result",
          "data": {
            "text/plain": [
              "[<matplotlib.lines.Line2D at 0x7f6ca93039d0>]"
            ]
          },
          "metadata": {},
          "execution_count": 36
        },
        {
          "output_type": "display_data",
          "data": {
            "text/plain": [
              "<Figure size 640x480 with 1 Axes>"
            ],
            "image/png": "[encoded data removed]"
          },
          "metadata": {}
        }
      ]
    },
    {
      "cell_type": "markdown",
      "metadata": {
        "id": "XrD-BxWCK-pa"
      },
      "source": [
        "### 4.3 Training steps."
      ]
    },
    {
      "cell_type": "code",
      "metadata": {
        "id": "hj3uuC2w0JEr"
      },
      "source": [
        "def train(env, agent, stack_frames, img_size, save_path=\"save\", max_steps=1000000):\n",
        "    total_step = 0\n",
        "    episode = 0\n",
        "    while True:\n",
        "        # Reset environment.\n",
        "        state,_ = env.reset()\n",
        "\n",
        "        # Initialize information.\n",
        "        step = 0\n",
        "        total_reward = 0\n",
        "        loss = 0\n",
        "\n",
        "        # One episode.\n",
        "        while True:\n",
        "            epsilon = epsilon_compute(total_step)\n",
        "            action = agent.choose_action(state, epsilon)\n",
        "            state_next, reward, done, info = env.step(action)\n",
        "            agent.store_transition(state, action, reward, state_next, done)\n",
        "            if total_step > 4*agent.batch_size:\n",
        "                loss = agent.learn()\n",
        "            state = state_next.copy()\n",
        "            step += 1\n",
        "            total_step += 1\n",
        "            total_reward += reward\n",
        "\n",
        "            state = state_next.copy()\n",
        "            step += 1\n",
        "            total_step += 1\n",
        "            total_reward += reward\n",
        "\n",
        "            if total_step % 100 == 0 or done:\n",
        "                print('\\rEpisode: {:3d} | Step: {:3d} / {:3d} | Reward: {:.3f} / {:.3f} | Loss: {:.3f} | Epsilon: {:.3f}'\\\n",
        "                    .format(episode, step, total_step, reward, total_reward, loss, epsilon), end=\"\")\n",
        "\n",
        "            if total_step % 10000 == 0:\n",
        "                print(\"\\nSave Model ...\")\n",
        "                agent.save_load_model(op=\"save\", path=save_path, fname=\"qnet.pt\")\n",
        "                print(\"Generate GIF ...\")\n",
        "                img_buffer = play(env, agent, stack_frames, img_size)\n",
        "                save_gif(img_buffer, \"train_\" + str(total_step).zfill(6) + \".gif\")\n",
        "                print(\"Done !!\")\n",
        "\n",
        "            if done or step>2000:\n",
        "                episode += 1\n",
        "                print()\n",
        "                break\n",
        "\n",
        "        if total_step > max_steps:\n",
        "            break"
      ],
      "execution_count": 41,
      "outputs": []
    },
    {
      "cell_type": "code",
      "metadata": {
        "id": "mHki_ukzyEpF",
        "colab": {
          "base_uri": "https://localhost:8080/"
        },
        "outputId": "b2a10c36-aabc-4eed-d01b-1ef571bfab1d"
      },
      "source": [
        "train(env_pong, agent, stack_frames, img_size, save_path=os.path.join(project_root, \"save\"), max_steps=400000)"
      ],
      "execution_count": null,
      "outputs": [
        {
          "output_type": "stream",
          "name": "stdout",
          "text": [
            "Episode:   0 | Step: 1000 / 1000 | Reward: 0.000 / -20.000 | Loss: 0.001 | Epsilon: 0.991"
          ]
        }
      ]
    },
    {
      "cell_type": "markdown",
      "metadata": {
        "id": "Igf0N-DQLC_u"
      },
      "source": [
        "### 4.4 Evaluate the trained model."
      ]
    },
    {
      "cell_type": "code",
      "metadata": {
        "id": "KTVutI83Iv4H"
      },
      "source": [
        "agent.save_load_model(op=\"load\", path=os.path.join(project_root, \"save\"), fname=\"qnet.pt\")\n",
        "img_buffer = play(env_pong, agent, stack_frames, img_size)\n",
        "save_gif(img_buffer, \"eval.gif\")"
      ],
      "execution_count": null,
      "outputs": []
    },
    {
      "cell_type": "code",
      "source": [
        "from google.colab import drive\n",
        "drive.mount('/content/drive')"
      ],
      "metadata": {
        "id": "ubiyh-M7teWN"
      },
      "execution_count": null,
      "outputs": []
    }
  ]
}